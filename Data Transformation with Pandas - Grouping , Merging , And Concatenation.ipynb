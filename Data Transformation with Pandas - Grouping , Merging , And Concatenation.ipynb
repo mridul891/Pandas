{
 "cells": [
  {
   "cell_type": "markdown",
   "id": "db578bf7-e627-45c7-b11b-0b5be33b6969",
   "metadata": {},
   "source": [
    "# ***Data Transformation with Pandas : Grouping , Merging and Concatenating***"
   ]
  },
  {
   "cell_type": "markdown",
   "id": "8ac4e3c0-2337-4f8a-a8e5-f47b7c68b4f2",
   "metadata": {},
   "source": [
    "***1.Group-By:*** It is used to group your data based on one or more columns. This allows you to apply aggreagate function such as mean ,median ,sum , or count to your data , based on the groups "
   ]
  },
  {
   "cell_type": "markdown",
   "id": "303c1d13-a62a-4375-8044-6611980483a7",
   "metadata": {},
   "source": [
    "***2.Merging and joining dataframes:*** It is used to combine data from multiple dataframes into a single dataframe. "
   ]
  },
  {
   "cell_type": "markdown",
   "id": "5101f104-3537-48e2-920d-88ae97ddb27d",
   "metadata": {},
   "source": [
    "***3.Concatenating :*** It is mainly used to reorganise data .It allows you to combine dataframes vertically or horizontally,while reshaping allows you to rearrange the data in your dataframes into different shapes "
   ]
  },
  {
   "cell_type": "code",
   "execution_count": 1,
   "id": "ace684a5-99ef-4eea-97b5-99fb70d5093b",
   "metadata": {},
   "outputs": [],
   "source": [
    "import pandas as pd "
   ]
  },
  {
   "cell_type": "code",
   "execution_count": 3,
   "id": "c03b365b-703c-4fd4-af50-bca5e457c14c",
   "metadata": {},
   "outputs": [
    {
     "name": "stdout",
     "output_type": "stream",
     "text": [
      "Country\n",
      "Brazil    34.0\n",
      "India     21.0\n",
      "Nepal     18.0\n",
      "Name: Age, dtype: float64\n"
     ]
    }
   ],
   "source": [
    "# group by \n",
    "data = { 'Name' : ['vidhi '  ,'ALpha' ,'devdutt' ,'Riya'],\n",
    "       'Age' : [20,34,22,18],\n",
    "       'Country' : ['India' ,'Brazil' , 'India' ,'Nepal']}\n",
    "df = pd.DataFrame(data)\n",
    "groupeddata = df.groupby(['Country'])\n",
    "print(groupeddata['Age'].mean())"
   ]
  },
  {
   "cell_type": "code",
   "execution_count": 6,
   "id": "e8e2fc0c-eb26-4a79-81f2-7faa927e6be4",
   "metadata": {},
   "outputs": [
    {
     "name": "stdout",
     "output_type": "stream",
     "text": [
      "      Name  Age  Color\n",
      "0    vidhi   20   Pink\n",
      "1    ALpha   34   Blue\n",
      "2  devdutt   22  white\n",
      "3     Riya   18    Red\n"
     ]
    }
   ],
   "source": [
    "# merging and joining \n",
    "data1 = {\"Name\" :['vidhi'  ,'ALpha' ,'devdutt' ,'Riya'],\n",
    "        \"Age\" :  [20,34,22,18]}\n",
    "data2 = {'Name' :['vidhi'  ,'ALpha' ,'devdutt' ,'Riya'],\n",
    "        'Color' :['Pink','Blue','white' ,'Red']}\n",
    "df1 = pd.DataFrame(data1)\n",
    "df2 = pd.DataFrame(data2)\n",
    "mergeddata = pd.merge(df1,df2,on='Name')\n",
    "print(mergeddata)"
   ]
  },
  {
   "cell_type": "code",
   "execution_count": 7,
   "id": "e2c00bc7-f7bc-4113-97b4-b0a65225efb2",
   "metadata": {},
   "outputs": [
    {
     "name": "stdout",
     "output_type": "stream",
     "text": [
      "      Name  Age\n",
      "0    vidhi   20\n",
      "1    ALpha   34\n",
      "0  devdutt   22\n",
      "1     Riya   18\n"
     ]
    }
   ],
   "source": [
    "#concatenation \n",
    "data1 = {\"Name\" :['vidhi'  ,'ALpha' ],\n",
    "        \"Age\" :  [20,34,]}\n",
    "data2 = {'Name' :['devdutt' ,'Riya'],\n",
    "        'Age' :[22,18]}\n",
    "df1 = pd.DataFrame(data1)\n",
    "df2=pd.DataFrame(data2)\n",
    "conacatenateddata = pd.concat([df1,df2] ,axis = 0 )\n",
    "print(conacatenateddata)"
   ]
  },
  {
   "cell_type": "code",
   "execution_count": 9,
   "id": "dee17572-454f-4f07-ba35-2f8515ae313c",
   "metadata": {},
   "outputs": [
    {
     "name": "stdout",
     "output_type": "stream",
     "text": [
      "    Name  Age     Name  Age\n",
      "0  vidhi   20  devdutt   22\n",
      "1  ALpha   34     Riya   18\n"
     ]
    }
   ],
   "source": [
    "# in another axis \n",
    "data1 = {\"Name\" :['vidhi'  ,'ALpha' ],\n",
    "        \"Age\" :  [20,34,]}\n",
    "data2 = {'Name' :['devdutt' ,'Riya'],\n",
    "        'Age' :[22,18]}\n",
    "df1 = pd.DataFrame(data1)\n",
    "df2=pd.DataFrame(data2)\n",
    "conacatenateddata = pd.concat([df1,df2] ,axis = 1)\n",
    "print(conacatenateddata)"
   ]
  },
  {
   "cell_type": "code",
   "execution_count": null,
   "id": "72be2760-5f5d-42b7-a0be-df639f6de9e5",
   "metadata": {},
   "outputs": [],
   "source": []
  }
 ],
 "metadata": {
  "kernelspec": {
   "display_name": "Python 3 (ipykernel)",
   "language": "python",
   "name": "python3"
  },
  "language_info": {
   "codemirror_mode": {
    "name": "ipython",
    "version": 3
   },
   "file_extension": ".py",
   "mimetype": "text/x-python",
   "name": "python",
   "nbconvert_exporter": "python",
   "pygments_lexer": "ipython3",
   "version": "3.11.8"
  }
 },
 "nbformat": 4,
 "nbformat_minor": 5
}
