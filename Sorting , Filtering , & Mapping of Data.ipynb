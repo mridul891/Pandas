{
 "cells": [
  {
   "cell_type": "markdown",
   "id": "d776b993-0dd3-422e-aed6-ee95e6a5ac80",
   "metadata": {},
   "source": [
    "# ***Sorting , Filtering & Mapping Of Data***"
   ]
  },
  {
   "cell_type": "markdown",
   "id": "cbb7c2ca-c58b-442c-919d-937ad64ed4b4",
   "metadata": {},
   "source": [
    "##### Pandas provides a wide range of functions for manipulating and analyzing data , including sorting,filtering ,reshaping and mapping."
   ]
  },
  {
   "cell_type": "markdown",
   "id": "8d7aa9fa-f31c-4720-9db2-eb4ceed8697a",
   "metadata": {},
   "source": [
    "***Sorting*** is the process of arranging data in a particular order."
   ]
  },
  {
   "cell_type": "markdown",
   "id": "8b2a5bdc-ec6b-46da-bdc6-f0ee1f25e645",
   "metadata": {},
   "source": [
    "***Filtering*** data is the process of selecting a subset of data based on certain conditions."
   ]
  },
  {
   "cell_type": "markdown",
   "id": "329fdd66-c31e-4fa0-b23f-d749b2b0adbb",
   "metadata": {},
   "source": [
    "***Reshaping*** data is the process of transforming data from one form to another."
   ]
  },
  {
   "cell_type": "markdown",
   "id": "f5fd250e-645b-4ba9-812a-eff0d538e53c",
   "metadata": {},
   "source": [
    "***Mapping*** data is the process of replacing one value with another value."
   ]
  },
  {
   "cell_type": "code",
   "execution_count": 1,
   "id": "b82c6570-7cbe-461b-bee4-7d125d9fe696",
   "metadata": {},
   "outputs": [],
   "source": [
    "import pandas as pd"
   ]
  },
  {
   "cell_type": "code",
   "execution_count": 2,
   "id": "bb9e5674-bfe0-4c84-b019-a70832bcb3ae",
   "metadata": {},
   "outputs": [
    {
     "data": {
      "text/html": [
       "<div>\n",
       "<style scoped>\n",
       "    .dataframe tbody tr th:only-of-type {\n",
       "        vertical-align: middle;\n",
       "    }\n",
       "\n",
       "    .dataframe tbody tr th {\n",
       "        vertical-align: top;\n",
       "    }\n",
       "\n",
       "    .dataframe thead th {\n",
       "        text-align: right;\n",
       "    }\n",
       "</style>\n",
       "<table border=\"1\" class=\"dataframe\">\n",
       "  <thead>\n",
       "    <tr style=\"text-align: right;\">\n",
       "      <th></th>\n",
       "      <th>Name</th>\n",
       "      <th>English</th>\n",
       "      <th>Maths</th>\n",
       "      <th>Hindi</th>\n",
       "    </tr>\n",
       "  </thead>\n",
       "  <tbody>\n",
       "    <tr>\n",
       "      <th>1</th>\n",
       "      <td>Vidhi</td>\n",
       "      <td>40</td>\n",
       "      <td>45</td>\n",
       "      <td>37</td>\n",
       "    </tr>\n",
       "    <tr>\n",
       "      <th>2</th>\n",
       "      <td>Riya</td>\n",
       "      <td>42</td>\n",
       "      <td>40</td>\n",
       "      <td>40</td>\n",
       "    </tr>\n",
       "    <tr>\n",
       "      <th>3</th>\n",
       "      <td>Devdutt</td>\n",
       "      <td>43</td>\n",
       "      <td>42</td>\n",
       "      <td>37</td>\n",
       "    </tr>\n",
       "    <tr>\n",
       "      <th>4</th>\n",
       "      <td>Rohan</td>\n",
       "      <td>34</td>\n",
       "      <td>37</td>\n",
       "      <td>45</td>\n",
       "    </tr>\n",
       "  </tbody>\n",
       "</table>\n",
       "</div>"
      ],
      "text/plain": [
       "      Name  English  Maths  Hindi\n",
       "1    Vidhi       40     45     37\n",
       "2     Riya       42     40     40\n",
       "3  Devdutt       43     42     37\n",
       "4    Rohan       34     37     45"
      ]
     },
     "execution_count": 2,
     "metadata": {},
     "output_type": "execute_result"
    }
   ],
   "source": [
    "data = {'Name' : ['Vidhi' ,'Riya' ,'Devdutt' ,'Rohan'],\n",
    "       'English': [40,42,43,34],\n",
    "       'Maths' : [45,40,42,37],\n",
    "       'Hindi' : [37,40,37,45]}\n",
    "df = pd.DataFrame(data,index = [1,2,3,4])\n",
    "df"
   ]
  },
  {
   "cell_type": "code",
   "execution_count": 7,
   "id": "5e50acea-4d2f-4555-919d-af34d0ee0490",
   "metadata": {},
   "outputs": [
    {
     "name": "stdout",
     "output_type": "stream",
     "text": [
      "      Name  English  Maths  Hindi\n",
      "3  Devdutt       43     42     37\n",
      "2     Riya       42     40     40\n",
      "1    Vidhi       40     45     37\n",
      "4    Rohan       34     37     45\n",
      "\n",
      "\n",
      "      Name  English  Maths  Hindi\n",
      "4    Rohan       34     37     45\n",
      "1    Vidhi       40     45     37\n",
      "2     Riya       42     40     40\n",
      "3  Devdutt       43     42     37\n"
     ]
    }
   ],
   "source": [
    "#sorting data\n",
    "engdatasort = df.sort_values(by=['English'] , ascending = False)\n",
    "print(engdatasort)\n",
    "print('\\n')\n",
    "#sorting multiple columns \n",
    "data_s = df.sort_values(by=['English' ,'Maths'] , ascending=[True,False])\n",
    "print(data_s)"
   ]
  },
  {
   "cell_type": "code",
   "execution_count": 13,
   "id": "f766a684-d687-4c7f-9fc7-d0ea3b17bf17",
   "metadata": {},
   "outputs": [
    {
     "name": "stdout",
     "output_type": "stream",
     "text": [
      "    Name  English  Maths  Hindi\n",
      "1  Vidhi       40     45     37\n",
      "\n",
      "\n",
      "      Name  English  Maths  Hindi\n",
      "1    Vidhi       40     45     37\n",
      "3  Devdutt       43     42     37\n"
     ]
    }
   ],
   "source": [
    "#filtering data \n",
    "#filtering of data is basically done with the help of boolean values / indexes\n",
    "\n",
    "filterdata = df[df['Maths']>42]\n",
    "print(filterdata)\n",
    "print('\\n')\n",
    "filterdataa = df[(df['Maths']>40) & (df['Hindi'] >35)]\n",
    "print(filterdataa)"
   ]
  },
  {
   "cell_type": "code",
   "execution_count": 16,
   "id": "ee20a3d0-1a8c-402c-a774-f842f1f5778e",
   "metadata": {},
   "outputs": [
    {
     "data": {
      "text/html": [
       "<div>\n",
       "<style scoped>\n",
       "    .dataframe tbody tr th:only-of-type {\n",
       "        vertical-align: middle;\n",
       "    }\n",
       "\n",
       "    .dataframe tbody tr th {\n",
       "        vertical-align: top;\n",
       "    }\n",
       "\n",
       "    .dataframe thead th {\n",
       "        text-align: right;\n",
       "    }\n",
       "</style>\n",
       "<table border=\"1\" class=\"dataframe\">\n",
       "  <thead>\n",
       "    <tr style=\"text-align: right;\">\n",
       "      <th></th>\n",
       "      <th>Name</th>\n",
       "      <th>English</th>\n",
       "      <th>Maths</th>\n",
       "      <th>Hindi</th>\n",
       "      <th>Proficieny</th>\n",
       "    </tr>\n",
       "  </thead>\n",
       "  <tbody>\n",
       "    <tr>\n",
       "      <th>1</th>\n",
       "      <td>Vidhi</td>\n",
       "      <td>40</td>\n",
       "      <td>45</td>\n",
       "      <td>37</td>\n",
       "      <td>2</td>\n",
       "    </tr>\n",
       "    <tr>\n",
       "      <th>2</th>\n",
       "      <td>Riya</td>\n",
       "      <td>42</td>\n",
       "      <td>40</td>\n",
       "      <td>40</td>\n",
       "      <td>1</td>\n",
       "    </tr>\n",
       "    <tr>\n",
       "      <th>3</th>\n",
       "      <td>Devdutt</td>\n",
       "      <td>43</td>\n",
       "      <td>42</td>\n",
       "      <td>37</td>\n",
       "      <td>2</td>\n",
       "    </tr>\n",
       "    <tr>\n",
       "      <th>4</th>\n",
       "      <td>Rohan</td>\n",
       "      <td>34</td>\n",
       "      <td>37</td>\n",
       "      <td>45</td>\n",
       "      <td>0</td>\n",
       "    </tr>\n",
       "  </tbody>\n",
       "</table>\n",
       "</div>"
      ],
      "text/plain": [
       "      Name  English  Maths  Hindi  Proficieny\n",
       "1    Vidhi       40     45     37           2\n",
       "2     Riya       42     40     40           1\n",
       "3  Devdutt       43     42     37           2\n",
       "4    Rohan       34     37     45           0"
      ]
     },
     "execution_count": 16,
     "metadata": {},
     "output_type": "execute_result"
    }
   ],
   "source": [
    "#mapping \n",
    "mappeddata = {'Vidhi' :2 ,'Riya' :1 , 'Devdutt' :2 , \"Rohan\" : 0}\n",
    "df['Proficieny']=df['Name'].map(mappeddata)\n",
    "df"
   ]
  }
 ],
 "metadata": {
  "kernelspec": {
   "display_name": "Python 3 (ipykernel)",
   "language": "python",
   "name": "python3"
  },
  "language_info": {
   "codemirror_mode": {
    "name": "ipython",
    "version": 3
   },
   "file_extension": ".py",
   "mimetype": "text/x-python",
   "name": "python",
   "nbconvert_exporter": "python",
   "pygments_lexer": "ipython3",
   "version": "3.11.8"
  }
 },
 "nbformat": 4,
 "nbformat_minor": 5
}
