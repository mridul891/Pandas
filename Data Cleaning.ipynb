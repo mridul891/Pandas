{
 "cells": [
  {
   "cell_type": "markdown",
   "id": "dd327b6f-c250-4f49-ab0a-87b00cb5e0fc",
   "metadata": {},
   "source": [
    "# ***Data Cleaning***"
   ]
  },
  {
   "cell_type": "markdown",
   "id": "8c383efe-17c1-48d2-bb9c-a595f9f7b772",
   "metadata": {},
   "source": [
    "Data cleaning and preparation are essential steps in the data analysis pipeline."
   ]
  },
  {
   "cell_type": "markdown",
   "id": "e5b2950e-d2c6-496f-876b-449726b2d31c",
   "metadata": {},
   "source": [
    "The Process of data cleaning involves identifying and handling issues within a dataset that could cause inaccurate or biased analysis results."
   ]
  },
  {
   "cell_type": "markdown",
   "id": "8e0e7c1e-41c9-4153-9f72-6bf263d2ae39",
   "metadata": {},
   "source": [
    "This involves handling missing values , removing duplicates , scaling data , and encoding categorical data."
   ]
  },
  {
   "cell_type": "code",
   "execution_count": 1,
   "id": "2754b01a-6f51-4e59-bccc-86c6db31a339",
   "metadata": {},
   "outputs": [],
   "source": [
    "import pandas as pd"
   ]
  },
  {
   "cell_type": "code",
   "execution_count": 2,
   "id": "56d17bc0-bc4b-456c-b383-313eb4daf17e",
   "metadata": {},
   "outputs": [
    {
     "data": {
      "text/html": [
       "<div>\n",
       "<style scoped>\n",
       "    .dataframe tbody tr th:only-of-type {\n",
       "        vertical-align: middle;\n",
       "    }\n",
       "\n",
       "    .dataframe tbody tr th {\n",
       "        vertical-align: top;\n",
       "    }\n",
       "\n",
       "    .dataframe thead th {\n",
       "        text-align: right;\n",
       "    }\n",
       "</style>\n",
       "<table border=\"1\" class=\"dataframe\">\n",
       "  <thead>\n",
       "    <tr style=\"text-align: right;\">\n",
       "      <th></th>\n",
       "      <th>A</th>\n",
       "      <th>B</th>\n",
       "    </tr>\n",
       "  </thead>\n",
       "  <tbody>\n",
       "    <tr>\n",
       "      <th>0</th>\n",
       "      <td>1</td>\n",
       "      <td>4</td>\n",
       "    </tr>\n",
       "    <tr>\n",
       "      <th>1</th>\n",
       "      <td>2</td>\n",
       "      <td>5</td>\n",
       "    </tr>\n",
       "    <tr>\n",
       "      <th>2</th>\n",
       "      <td>2</td>\n",
       "      <td>5</td>\n",
       "    </tr>\n",
       "    <tr>\n",
       "      <th>3</th>\n",
       "      <td>3</td>\n",
       "      <td>7</td>\n",
       "    </tr>\n",
       "    <tr>\n",
       "      <th>4</th>\n",
       "      <td>5</td>\n",
       "      <td>18</td>\n",
       "    </tr>\n",
       "    <tr>\n",
       "      <th>5</th>\n",
       "      <td>9</td>\n",
       "      <td>0</td>\n",
       "    </tr>\n",
       "  </tbody>\n",
       "</table>\n",
       "</div>"
      ],
      "text/plain": [
       "   A   B\n",
       "0  1   4\n",
       "1  2   5\n",
       "2  2   5\n",
       "3  3   7\n",
       "4  5  18\n",
       "5  9   0"
      ]
     },
     "execution_count": 2,
     "metadata": {},
     "output_type": "execute_result"
    }
   ],
   "source": [
    " #handling Duplicate values and Outliners \n",
    "data = {'A' : [1,2,2,3,5,9] , \n",
    "       'B' : [4,5,5,7,18,0]}\n",
    "df = pd.DataFrame(data)\n",
    "df"
   ]
  },
  {
   "cell_type": "code",
   "execution_count": 3,
   "id": "5840b56b-177a-4f99-88f8-5948c646e99c",
   "metadata": {},
   "outputs": [
    {
     "name": "stdout",
     "output_type": "stream",
     "text": [
      "0    False\n",
      "1    False\n",
      "2     True\n",
      "3    False\n",
      "4    False\n",
      "5    False\n",
      "dtype: bool\n"
     ]
    }
   ],
   "source": [
    "print(df.duplicated())"
   ]
  },
  {
   "cell_type": "code",
   "execution_count": 5,
   "id": "f81acbf1-e51f-47da-a924-9f631082881a",
   "metadata": {},
   "outputs": [
    {
     "data": {
      "text/html": [
       "<div>\n",
       "<style scoped>\n",
       "    .dataframe tbody tr th:only-of-type {\n",
       "        vertical-align: middle;\n",
       "    }\n",
       "\n",
       "    .dataframe tbody tr th {\n",
       "        vertical-align: top;\n",
       "    }\n",
       "\n",
       "    .dataframe thead th {\n",
       "        text-align: right;\n",
       "    }\n",
       "</style>\n",
       "<table border=\"1\" class=\"dataframe\">\n",
       "  <thead>\n",
       "    <tr style=\"text-align: right;\">\n",
       "      <th></th>\n",
       "      <th>A</th>\n",
       "      <th>B</th>\n",
       "    </tr>\n",
       "  </thead>\n",
       "  <tbody>\n",
       "    <tr>\n",
       "      <th>0</th>\n",
       "      <td>1</td>\n",
       "      <td>4</td>\n",
       "    </tr>\n",
       "    <tr>\n",
       "      <th>1</th>\n",
       "      <td>2</td>\n",
       "      <td>5</td>\n",
       "    </tr>\n",
       "    <tr>\n",
       "      <th>3</th>\n",
       "      <td>3</td>\n",
       "      <td>7</td>\n",
       "    </tr>\n",
       "    <tr>\n",
       "      <th>4</th>\n",
       "      <td>5</td>\n",
       "      <td>18</td>\n",
       "    </tr>\n",
       "    <tr>\n",
       "      <th>5</th>\n",
       "      <td>9</td>\n",
       "      <td>0</td>\n",
       "    </tr>\n",
       "  </tbody>\n",
       "</table>\n",
       "</div>"
      ],
      "text/plain": [
       "   A   B\n",
       "0  1   4\n",
       "1  2   5\n",
       "3  3   7\n",
       "4  5  18\n",
       "5  9   0"
      ]
     },
     "execution_count": 5,
     "metadata": {},
     "output_type": "execute_result"
    }
   ],
   "source": [
    "df1 = df.drop_duplicates()\n",
    "df1"
   ]
  },
  {
   "cell_type": "code",
   "execution_count": 6,
   "id": "e3842b3d-4b2c-4200-8a5b-8e08f044167b",
   "metadata": {},
   "outputs": [],
   "source": [
    "# outliers are extreme values that can skew your result"
   ]
  },
  {
   "cell_type": "code",
   "execution_count": 7,
   "id": "4953e1a1-1049-4806-9e5d-e74531241b6c",
   "metadata": {},
   "outputs": [],
   "source": [
    "# Quantile method is used to identify the outliers and clip method to clip the particular clip"
   ]
  },
  {
   "cell_type": "code",
   "execution_count": 10,
   "id": "5adf15c1-5153-4e3f-bb04-29adb8d66a74",
   "metadata": {},
   "outputs": [
    {
     "data": {
      "text/plain": [
       "8.8"
      ]
     },
     "execution_count": 10,
     "metadata": {},
     "output_type": "execute_result"
    }
   ],
   "source": [
    "q = df['A'].quantile(0.99)\n",
    "q"
   ]
  },
  {
   "cell_type": "code",
   "execution_count": 11,
   "id": "183f6be1-53e2-422f-88d3-479701ba5d96",
   "metadata": {},
   "outputs": [
    {
     "name": "stdout",
     "output_type": "stream",
     "text": [
      "     A   B\n",
      "0  1.0   4\n",
      "1  2.0   5\n",
      "2  2.0   5\n",
      "3  3.0   7\n",
      "4  5.0  18\n",
      "5  8.8   0\n"
     ]
    }
   ],
   "source": [
    "df['A'] = df['A'].clip(lower = None , upper = q)\n",
    "print(df)"
   ]
  },
  {
   "cell_type": "code",
   "execution_count": 12,
   "id": "384922d6-f8f1-4a7f-9a52-03d14b848545",
   "metadata": {},
   "outputs": [],
   "source": [
    " # Handling of Missing values"
   ]
  },
  {
   "cell_type": "code",
   "execution_count": 25,
   "id": "0504e2f9-d369-4724-87bb-13ecbf6ff870",
   "metadata": {},
   "outputs": [],
   "source": [
    "# isna method is used to find any missing values and fillna is used to fill the missing values with statistical method \n",
    "# for Filling = if the data is numerical and contains  outliers then we use median  \n",
    "# if the data does not contain outliers then we use mean \n",
    "# if the data is categorical we use mode \n",
    "import numpy as np\n",
    "data = {'A' : [1,2,3,np.nan ,np.nan] , \n",
    "       'B':[5,np.nan ,6,7,np.nan]}\n",
    "df = pd.DataFrame(data)\n"
   ]
  },
  {
   "cell_type": "code",
   "execution_count": 26,
   "id": "b2984e3c-0626-4cc4-9b14-3f8a9431bb80",
   "metadata": {},
   "outputs": [
    {
     "name": "stdout",
     "output_type": "stream",
     "text": [
      "       A      B\n",
      "0  False  False\n",
      "1  False   True\n",
      "2  False  False\n",
      "3   True  False\n",
      "4   True   True\n"
     ]
    }
   ],
   "source": [
    "print(df.isna())"
   ]
  },
  {
   "cell_type": "code",
   "execution_count": 27,
   "id": "44f3f974-c25a-4e8e-8f3b-15cd84448575",
   "metadata": {},
   "outputs": [
    {
     "name": "stdout",
     "output_type": "stream",
     "text": [
      "     A    B\n",
      "0  1.0  5.0\n",
      "1  2.0  0.0\n",
      "2  3.0  6.0\n",
      "3  0.0  7.0\n",
      "4  0.0  0.0\n"
     ]
    }
   ],
   "source": [
    "print(df.fillna(value = 0))"
   ]
  },
  {
   "cell_type": "code",
   "execution_count": 29,
   "id": "9e227747-0bba-4a57-af24-25ddcfa05df8",
   "metadata": {},
   "outputs": [
    {
     "name": "stdout",
     "output_type": "stream",
     "text": [
      "     A    B\n",
      "0  1.0  5.0\n",
      "1  2.0  6.0\n",
      "2  3.0  6.0\n",
      "3  2.0  7.0\n",
      "4  2.0  6.0\n"
     ]
    }
   ],
   "source": [
    "df['A'] = df['A'].fillna(df['A'].mean())\n",
    "df['B'] = df['B'].fillna(df['B'].mean())\n",
    "print(df)"
   ]
  },
  {
   "cell_type": "code",
   "execution_count": 31,
   "id": "18e9f3fa-da21-4fb3-bdde-a890a5e9d99d",
   "metadata": {},
   "outputs": [],
   "source": [
    "# data normalization and scaling \n",
    "# Technique used to transform the numerical data to common scale this is done to reduce the biasness towards higher values .\n",
    "# Pandas provides us with min and max methods to compute the min and max values "
   ]
  },
  {
   "cell_type": "code",
   "execution_count": 32,
   "id": "057479df-6545-4756-a28b-f276dffc395d",
   "metadata": {},
   "outputs": [
    {
     "name": "stdout",
     "output_type": "stream",
     "text": [
      "A    3.0\n",
      "B    7.0\n",
      "dtype: float64\n",
      "A    1.0\n",
      "B    5.0\n",
      "dtype: float64\n"
     ]
    }
   ],
   "source": [
    "max_value = df.max()\n",
    "min_value = df.min()\n",
    "print(max_value)\n",
    "print(min_value)"
   ]
  },
  {
   "cell_type": "code",
   "execution_count": 71,
   "id": "47ebb20a-4cf5-4d7e-9614-2be2809e33b2",
   "metadata": {},
   "outputs": [
    {
     "name": "stdout",
     "output_type": "stream",
     "text": [
      "        A   B\n",
      "0     Red   4\n",
      "1    Blue   5\n",
      "2  Yellow   5\n",
      "3    Pink   7\n",
      "4   white  18\n",
      "5  Purple   0\n"
     ]
    }
   ],
   "source": [
    "# encoding of categorical data  \n",
    "# categorical data is the data that takes on limited no of values when we use this in analysis then we have to encode this data \n",
    "# in pandas we use get_dummies method which one hot encodes the categorical  data (convert 0 and 1)\n",
    "# and replace that map categorical values ( 0 ,1) with integer number\n",
    "data = {'A':['Red', 'Blue','Yellow','Pink','white','Purple'], \n",
    "       'B' : [4,5,5,7,18,0]}\n",
    "df = pd.DataFrame(data)\n",
    "print(df)"
   ]
  },
  {
   "cell_type": "code",
   "execution_count": 72,
   "id": "c89cf36c-57cd-47dc-95ef-217dc00e5130",
   "metadata": {},
   "outputs": [
    {
     "name": "stdout",
     "output_type": "stream",
     "text": [
      "    B  A_Blue  A_Pink  A_Purple  A_Red  A_Yellow  A_white\n",
      "0   4   False   False     False   True     False    False\n",
      "1   5    True   False     False  False     False    False\n",
      "2   5   False   False     False  False      True    False\n",
      "3   7   False    True     False  False     False    False\n",
      "4  18   False   False     False  False     False     True\n",
      "5   0   False   False      True  False     False    False\n"
     ]
    }
   ],
   "source": [
    "df = pd.get_dummies(df ,columns= ['A'])\n",
    "print(df)"
   ]
  },
  {
   "cell_type": "code",
   "execution_count": 73,
   "id": "76da90cb-0bb7-47a1-9def-117364372fa3",
   "metadata": {},
   "outputs": [
    {
     "name": "stdout",
     "output_type": "stream",
     "text": [
      "    B  A_Blue  A_Pink  A_Purple  A_Red  A_Yellow  A_white\n",
      "0   4   False   False     False   True     False    False\n",
      "1   5    True   False     False  False     False    False\n",
      "2   5   False   False     False  False      True    False\n",
      "3   7   False    True     False  False     False    False\n",
      "4  18   False   False     False  False     False     True\n",
      "5   0   False   False      True  False     False    False\n"
     ]
    }
   ],
   "source": [
    "df.replace({'Red':0,'Blue':1,'Yellow':18,'Pink':37,'white':3,'Purple' :4 })\n",
    "print(df)"
   ]
  },
  {
   "cell_type": "code",
   "execution_count": null,
   "id": "f9bef4d5-1da7-437a-bbad-89384e5b7bb3",
   "metadata": {},
   "outputs": [],
   "source": []
  }
 ],
 "metadata": {
  "kernelspec": {
   "display_name": "Python 3 (ipykernel)",
   "language": "python",
   "name": "python3"
  },
  "language_info": {
   "codemirror_mode": {
    "name": "ipython",
    "version": 3
   },
   "file_extension": ".py",
   "mimetype": "text/x-python",
   "name": "python",
   "nbconvert_exporter": "python",
   "pygments_lexer": "ipython3",
   "version": "3.11.8"
  }
 },
 "nbformat": 4,
 "nbformat_minor": 5
}
