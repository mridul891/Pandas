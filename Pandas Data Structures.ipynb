{
 "cells": [
  {
   "cell_type": "markdown",
   "id": "78ada3df-858d-4da4-b80d-283a0c859728",
   "metadata": {},
   "source": [
    " # ***Pandas Data Structures : Series and DataFrames***"
   ]
  },
  {
   "cell_type": "markdown",
   "id": "5026075b-19a6-4961-b1dd-6588aa612a4d",
   "metadata": {},
   "source": [
    "##### ***Series*** is a one-dimensional labeled array\n",
    "##### A Series is essentially a column of data with a label or name, and an associated index that is used to access the data "
   ]
  },
  {
   "cell_type": "markdown",
   "id": "83ee7d28-75a9-4bc8-8460-b304d0cdac59",
   "metadata": {},
   "source": [
    "##### ***DataFrame*** is a two-dimensional labeled data structure.\n",
    "##### A Dataframe is essentially a table where each column is a series and each row has a label or index."
   ]
  },
  {
   "cell_type": "code",
   "execution_count": 1,
   "id": "c7abe475-8f67-41b9-a000-15e35f04261f",
   "metadata": {},
   "outputs": [],
   "source": [
    "import pandas as pd"
   ]
  },
  {
   "cell_type": "code",
   "execution_count": 2,
   "id": "6625c10d-f1b6-4bcc-9a7f-0bf8d056b503",
   "metadata": {},
   "outputs": [
    {
     "name": "stdout",
     "output_type": "stream",
     "text": [
      "A    1\n",
      "B    2\n",
      "C    3\n",
      "D    4\n",
      "E    5\n",
      "dtype: int64\n"
     ]
    }
   ],
   "source": [
    "#creation series in pandas \n",
    "data = [1,2,3,4,5]\n",
    "series = pd.Series(data, index = ['A' , 'B' ,'C' ,'D','E'])\n",
    "print(series)"
   ]
  },
  {
   "cell_type": "code",
   "execution_count": 3,
   "id": "f1fcaa0a-0fa2-400b-b35f-8842a441b8cb",
   "metadata": {},
   "outputs": [
    {
     "name": "stdout",
     "output_type": "stream",
     "text": [
      "      Name  Age  color\n",
      "0   vidhi    20   Blue\n",
      "1    ALpha   21  Green\n",
      "2  devdutt   22  Black\n",
      "3     Riya   23   Pink\n"
     ]
    }
   ],
   "source": [
    "# creating a DataFrame in pandas \n",
    "data = { 'Name' : ['vidhi '  ,'ALpha' ,'devdutt' ,'Riya'],\n",
    "       'Age' : [20,21,22,23],\n",
    "       'color' : ['Blue' ,'Green' , 'Black' ,'Pink']\n",
    "       }\n",
    "df = pd.DataFrame(data)\n",
    "print(df)"
   ]
  }
 ],
 "metadata": {
  "kernelspec": {
   "display_name": "Python 3 (ipykernel)",
   "language": "python",
   "name": "python3"
  },
  "language_info": {
   "codemirror_mode": {
    "name": "ipython",
    "version": 3
   },
   "file_extension": ".py",
   "mimetype": "text/x-python",
   "name": "python",
   "nbconvert_exporter": "python",
   "pygments_lexer": "ipython3",
   "version": "3.11.8"
  }
 },
 "nbformat": 4,
 "nbformat_minor": 5
}
