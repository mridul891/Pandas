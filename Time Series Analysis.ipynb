{
 "cells": [
  {
   "cell_type": "markdown",
   "id": "3c728dc4-ffdf-44c8-bf1a-5e31165e94b0",
   "metadata": {},
   "source": [
    "# ***Time Series Analysis***"
   ]
  },
  {
   "cell_type": "markdown",
   "id": "ec46e172-d089-46d6-995e-0e0842152be6",
   "metadata": {},
   "source": [
    "Time series analysis is a statistical technique that can be used to extract meaningful insights from time series data.\n"
   ]
  },
  {
   "cell_type": "markdown",
   "id": "628f5758-55db-4505-8bf0-c079c11c7e60",
   "metadata": {},
   "source": [
    "It is  commonly used in various fields, such as finance ,economics , weather  forecasting and many others."
   ]
  },
  {
   "cell_type": "code",
   "execution_count": 1,
   "id": "2a3a76e8-0b57-4a86-b7d6-b19e67f14cb9",
   "metadata": {},
   "outputs": [],
   "source": [
    "import pandas as pd "
   ]
  },
  {
   "cell_type": "code",
   "execution_count": 5,
   "id": "cbedfbb4-a8e2-46bc-8414-daab915b9fc6",
   "metadata": {},
   "outputs": [
    {
     "name": "stdout",
     "output_type": "stream",
     "text": [
      "7\n",
      "2024\n"
     ]
    }
   ],
   "source": [
    "#DateTimeIndex #DateTime These are the two objects that used to represent the date and time in pandas \n",
    "#DateTimeIndex used to represent the time series index \n",
    "#DateTime used to represent a single value of date and time\n",
    "import datetime as dt\n",
    "date = dt.datetime(2024,7,7 ,4,59,19)\n",
    "print(date.month)\n",
    "print(date.year)"
   ]
  },
  {
   "cell_type": "code",
   "execution_count": 17,
   "id": "4a495b48-4d0f-4061-8cc8-0be72ebf2249",
   "metadata": {},
   "outputs": [
    {
     "data": {
      "text/html": [
       "<div>\n",
       "<style scoped>\n",
       "    .dataframe tbody tr th:only-of-type {\n",
       "        vertical-align: middle;\n",
       "    }\n",
       "\n",
       "    .dataframe tbody tr th {\n",
       "        vertical-align: top;\n",
       "    }\n",
       "\n",
       "    .dataframe thead th {\n",
       "        text-align: right;\n",
       "    }\n",
       "</style>\n",
       "<table border=\"1\" class=\"dataframe\">\n",
       "  <thead>\n",
       "    <tr style=\"text-align: right;\">\n",
       "      <th></th>\n",
       "      <th>A</th>\n",
       "    </tr>\n",
       "  </thead>\n",
       "  <tbody>\n",
       "    <tr>\n",
       "      <th>2022-07-07</th>\n",
       "      <td>10</td>\n",
       "    </tr>\n",
       "    <tr>\n",
       "      <th>2023-06-06</th>\n",
       "      <td>20</td>\n",
       "    </tr>\n",
       "    <tr>\n",
       "      <th>2024-05-05</th>\n",
       "      <td>30</td>\n",
       "    </tr>\n",
       "  </tbody>\n",
       "</table>\n",
       "</div>"
      ],
      "text/plain": [
       "             A\n",
       "2022-07-07  10\n",
       "2023-06-06  20\n",
       "2024-05-05  30"
      ]
     },
     "execution_count": 17,
     "metadata": {},
     "output_type": "execute_result"
    }
   ],
   "source": [
    "df = pd.DataFrame({'A' :[10,20,30]},index=pd.DatetimeIndex(['2022-07-07',\"2023-06-06\",\"2024-05-05\"]))\n",
    "df"
   ]
  },
  {
   "cell_type": "code",
   "execution_count": 18,
   "id": "beb3ef73-8b43-4127-abf1-1bab0fff98ee",
   "metadata": {},
   "outputs": [
    {
     "name": "stdout",
     "output_type": "stream",
     "text": [
      "               A\n",
      "2022-07-07   NaN\n",
      "2023-06-06  10.0\n",
      "2024-05-05  20.0\n"
     ]
    }
   ],
   "source": [
    "# shifting -used to move the timeperiod forward or backward  by a specified no of time periods\n",
    "# lagging - used to create a new column with a time series data shifted by a specified no of time period \n",
    "# resampling - used to change the frequency of data \n",
    "shifted_data = df.shift(periods = 1)\n",
    "print(shifted_data)"
   ]
  },
  {
   "cell_type": "code",
   "execution_count": 19,
   "id": "c116ca1d-5572-4222-af9d-fe0d6e442526",
   "metadata": {},
   "outputs": [
    {
     "name": "stdout",
     "output_type": "stream",
     "text": [
      "             A  lagged\n",
      "2022-07-07  10     NaN\n",
      "2023-06-06  20    10.0\n",
      "2024-05-05  30    20.0\n"
     ]
    }
   ],
   "source": [
    "# lagging \n",
    "df['lagged'] = df['A'].shift(periods=1)\n",
    "print(df)"
   ]
  },
  {
   "cell_type": "code",
   "execution_count": 20,
   "id": "b2179f89-4a9a-4877-a8d2-0b087b08abce",
   "metadata": {},
   "outputs": [
    {
     "name": "stdout",
     "output_type": "stream",
     "text": [
      "             A  lagged\n",
      "2022-07-31  10     0.0\n",
      "2022-08-31   0     0.0\n",
      "2022-09-30   0     0.0\n",
      "2022-10-31   0     0.0\n",
      "2022-11-30   0     0.0\n",
      "2022-12-31   0     0.0\n",
      "2023-01-31   0     0.0\n",
      "2023-02-28   0     0.0\n",
      "2023-03-31   0     0.0\n",
      "2023-04-30   0     0.0\n",
      "2023-05-31   0     0.0\n",
      "2023-06-30  20    10.0\n",
      "2023-07-31   0     0.0\n",
      "2023-08-31   0     0.0\n",
      "2023-09-30   0     0.0\n",
      "2023-10-31   0     0.0\n",
      "2023-11-30   0     0.0\n",
      "2023-12-31   0     0.0\n",
      "2024-01-31   0     0.0\n",
      "2024-02-29   0     0.0\n",
      "2024-03-31   0     0.0\n",
      "2024-04-30   0     0.0\n",
      "2024-05-31  30    20.0\n"
     ]
    }
   ],
   "source": [
    "# resmapling \n",
    "resampled_data = df.resample('ME').sum()\n",
    "print(resampled_data)"
   ]
  },
  {
   "cell_type": "code",
   "execution_count": null,
   "id": "b8ec3560-989e-483d-aac3-bc9a3d713620",
   "metadata": {},
   "outputs": [],
   "source": []
  }
 ],
 "metadata": {
  "kernelspec": {
   "display_name": "Python 3 (ipykernel)",
   "language": "python",
   "name": "python3"
  },
  "language_info": {
   "codemirror_mode": {
    "name": "ipython",
    "version": 3
   },
   "file_extension": ".py",
   "mimetype": "text/x-python",
   "name": "python",
   "nbconvert_exporter": "python",
   "pygments_lexer": "ipython3",
   "version": "3.11.8"
  }
 },
 "nbformat": 4,
 "nbformat_minor": 5
}
