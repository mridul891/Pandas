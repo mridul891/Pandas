{
 "cells": [
  {
   "cell_type": "markdown",
   "id": "3c728dc4-ffdf-44c8-bf1a-5e31165e94b0",
   "metadata": {},
   "source": [
    "# ***Time Series Analysis***"
   ]
  },
  {
   "cell_type": "markdown",
   "id": "ec46e172-d089-46d6-995e-0e0842152be6",
   "metadata": {},
   "source": [
    "Time series analysis is a statistical technique that can be used to extract meaningful insights from time series data.\n"
   ]
  },
  {
   "cell_type": "markdown",
   "id": "628f5758-55db-4505-8bf0-c079c11c7e60",
   "metadata": {},
   "source": [
    "It is  commonly used in various fields, such as finance ,economics , weather  forecasting and many others."
   ]
  },
  {
   "cell_type": "code",
   "execution_count": 1,
   "id": "2a3a76e8-0b57-4a86-b7d6-b19e67f14cb9",
   "metadata": {},
   "outputs": [],
   "source": [
    "import pandas as pd "
   ]
  },
  {
   "cell_type": "code",
   "execution_count": 5,
   "id": "cbedfbb4-a8e2-46bc-8414-daab915b9fc6",
   "metadata": {},
   "outputs": [
    {
     "name": "stdout",
     "output_type": "stream",
     "text": [
      "7\n",
      "2024\n"
     ]
    }
   ],
   "source": [
    "#DateTimeIndex #DateTime These are the two objects that used to represent the date and time in pandas \n",
    "#DateTimeIndex used to represent the time series index \n",
    "#DateTime used to represent a single value of date and time\n",
    "import datetime as dt\n",
    "date = dt.datetime(2024,7,7 ,4,59,19)\n",
    "print(date.month)\n",
    "print(date.year)"
   ]
  },
  {
   "cell_type": "code",
   "execution_count": 7,
   "id": "4a495b48-4d0f-4061-8cc8-0be72ebf2249",
   "metadata": {},
   "outputs": [
    {
     "data": {
      "text/html": [
       "<div>\n",
       "<style scoped>\n",
       "    .dataframe tbody tr th:only-of-type {\n",
       "        vertical-align: middle;\n",
       "    }\n",
       "\n",
       "    .dataframe tbody tr th {\n",
       "        vertical-align: top;\n",
       "    }\n",
       "\n",
       "    .dataframe thead th {\n",
       "        text-align: right;\n",
       "    }\n",
       "</style>\n",
       "<table border=\"1\" class=\"dataframe\">\n",
       "  <thead>\n",
       "    <tr style=\"text-align: right;\">\n",
       "      <th></th>\n",
       "      <th>A</th>\n",
       "    </tr>\n",
       "  </thead>\n",
       "  <tbody>\n",
       "    <tr>\n",
       "      <th>2024-07-07</th>\n",
       "      <td>1</td>\n",
       "    </tr>\n",
       "    <tr>\n",
       "      <th>2023-06-06</th>\n",
       "      <td>2</td>\n",
       "    </tr>\n",
       "    <tr>\n",
       "      <th>2022-05-05</th>\n",
       "      <td>3</td>\n",
       "    </tr>\n",
       "  </tbody>\n",
       "</table>\n",
       "</div>"
      ],
      "text/plain": [
       "            A\n",
       "2024-07-07  1\n",
       "2023-06-06  2\n",
       "2022-05-05  3"
      ]
     },
     "execution_count": 7,
     "metadata": {},
     "output_type": "execute_result"
    }
   ],
   "source": [
    "df = pd.DataFrame({'A' :[1,2,3]},index=pd.DatetimeIndex(['2024-07-07',\"2023-06-06\",\"2022-05-05\"]))\n",
    "df"
   ]
  },
  {
   "cell_type": "code",
   "execution_count": null,
   "id": "beb3ef73-8b43-4127-abf1-1bab0fff98ee",
   "metadata": {},
   "outputs": [],
   "source": [
    "# shifting -used to move the timeperiod forward or backward  by a specified no of time periods\n",
    "# lagging - used to create a new column with a time series data shifted by a specified no of time period \n",
    "# resampling - used to change the frequency of data \n",
    "shifted_data = df.shift(periods = 1)\n",
    "print(shifted_data)"
   ]
  }
 ],
 "metadata": {
  "kernelspec": {
   "display_name": "Python 3 (ipykernel)",
   "language": "python",
   "name": "python3"
  },
  "language_info": {
   "codemirror_mode": {
    "name": "ipython",
    "version": 3
   },
   "file_extension": ".py",
   "mimetype": "text/x-python",
   "name": "python",
   "nbconvert_exporter": "python",
   "pygments_lexer": "ipython3",
   "version": "3.11.8"
  }
 },
 "nbformat": 4,
 "nbformat_minor": 5
}
