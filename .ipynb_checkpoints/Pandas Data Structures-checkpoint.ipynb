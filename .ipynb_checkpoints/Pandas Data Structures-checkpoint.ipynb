{
 "cells": [
  {
   "cell_type": "markdown",
   "id": "78ada3df-858d-4da4-b80d-283a0c859728",
   "metadata": {},
   "source": [
    " # ***Pandas Data Structures : Series and DataFrames***"
   ]
  },
  {
   "cell_type": "markdown",
   "id": "5026075b-19a6-4961-b1dd-6588aa612a4d",
   "metadata": {},
   "source": [
    "##### ***Series*** is a one-dimensional labeled array\n",
    "##### A Series is essentially a column of data with a label or name, and an associated index that is used to access the data "
   ]
  },
  {
   "cell_type": "markdown",
   "id": "83ee7d28-75a9-4bc8-8460-b304d0cdac59",
   "metadata": {},
   "source": [
    "##### ***DataFrame*** is a two-dimensional labeled data structure.\n",
    "##### A Dataframe is essentially a table where each column is a series and each row has a label or index."
   ]
  },
  {
   "cell_type": "code",
   "execution_count": null,
   "id": "c7abe475-8f67-41b9-a000-15e35f04261f",
   "metadata": {},
   "outputs": [],
   "source": []
  }
 ],
 "metadata": {
  "kernelspec": {
   "display_name": "Python 3 (ipykernel)",
   "language": "python",
   "name": "python3"
  },
  "language_info": {
   "codemirror_mode": {
    "name": "ipython",
    "version": 3
   },
   "file_extension": ".py",
   "mimetype": "text/x-python",
   "name": "python",
   "nbconvert_exporter": "python",
   "pygments_lexer": "ipython3",
   "version": "3.11.8"
  }
 },
 "nbformat": 4,
 "nbformat_minor": 5
}
