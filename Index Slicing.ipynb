{
 "cells": [
  {
   "cell_type": "markdown",
   "id": "406a592b-887c-42d9-9b1a-e48917938f41",
   "metadata": {},
   "source": [
    "# ***Indexing & Slicing***"
   ]
  },
  {
   "cell_type": "markdown",
   "id": "2fc0c88c-48db-4bdd-9d28-5f58ad2ae3fa",
   "metadata": {},
   "source": [
    "The indexing ans slicing technique are useful when you need to extract specific pieces of information from your data."
   ]
  },
  {
   "cell_type": "markdown",
   "id": "35eab8d7-002c-470f-a025-54082ae6ac74",
   "metadata": {},
   "source": [
    "***Indexing*** in Pandas allows you to extract specific values or group of values from a Series or a DataFrame"
   ]
  },
  {
   "cell_type": "markdown",
   "id": "e10f44d0-acd4-40d2-9ec1-ce60bc633e2c",
   "metadata": {},
   "source": [
    "***SLicing*** in Pandas allows you to extract a portion of the data in your Series and DataFrame"
   ]
  },
  {
   "cell_type": "code",
   "execution_count": 2,
   "id": "dc4ffb38-82b3-4226-ad81-c867d7e2d925",
   "metadata": {},
   "outputs": [],
   "source": [
    "import pandas as pd "
   ]
  },
  {
   "cell_type": "code",
   "execution_count": 3,
   "id": "2d21010d-7779-42c6-b5fc-3f9fb33ea0b5",
   "metadata": {},
   "outputs": [],
   "source": [
    "#indexing"
   ]
  },
  {
   "cell_type": "code",
   "execution_count": 4,
   "id": "9a9cd18d-8c37-4c46-8a99-fd7d46acfdf8",
   "metadata": {},
   "outputs": [
    {
     "data": {
      "text/html": [
       "<div>\n",
       "<style scoped>\n",
       "    .dataframe tbody tr th:only-of-type {\n",
       "        vertical-align: middle;\n",
       "    }\n",
       "\n",
       "    .dataframe tbody tr th {\n",
       "        vertical-align: top;\n",
       "    }\n",
       "\n",
       "    .dataframe thead th {\n",
       "        text-align: right;\n",
       "    }\n",
       "</style>\n",
       "<table border=\"1\" class=\"dataframe\">\n",
       "  <thead>\n",
       "    <tr style=\"text-align: right;\">\n",
       "      <th></th>\n",
       "      <th>Name</th>\n",
       "      <th>Age</th>\n",
       "      <th>Country</th>\n",
       "    </tr>\n",
       "  </thead>\n",
       "  <tbody>\n",
       "    <tr>\n",
       "      <th>0</th>\n",
       "      <td>vidhi</td>\n",
       "      <td>20</td>\n",
       "      <td>India</td>\n",
       "    </tr>\n",
       "    <tr>\n",
       "      <th>1</th>\n",
       "      <td>ALpha</td>\n",
       "      <td>34</td>\n",
       "      <td>Brazil</td>\n",
       "    </tr>\n",
       "    <tr>\n",
       "      <th>2</th>\n",
       "      <td>devdutt</td>\n",
       "      <td>22</td>\n",
       "      <td>Germany</td>\n",
       "    </tr>\n",
       "    <tr>\n",
       "      <th>3</th>\n",
       "      <td>Riya</td>\n",
       "      <td>18</td>\n",
       "      <td>Franze</td>\n",
       "    </tr>\n",
       "  </tbody>\n",
       "</table>\n",
       "</div>"
      ],
      "text/plain": [
       "      Name  Age  Country\n",
       "0   vidhi    20    India\n",
       "1    ALpha   34   Brazil\n",
       "2  devdutt   22  Germany\n",
       "3     Riya   18   Franze"
      ]
     },
     "execution_count": 4,
     "metadata": {},
     "output_type": "execute_result"
    }
   ],
   "source": [
    "data = { 'Name' : ['vidhi '  ,'ALpha' ,'devdutt' ,'Riya'],\n",
    "       'Age' : [20,34,22,18],\n",
    "       'Country' : ['India' ,'Brazil' , 'Germany' ,'Franze']}\n",
    "df = pd.DataFrame(data)\n",
    "df"
   ]
  },
  {
   "cell_type": "code",
   "execution_count": 5,
   "id": "94e6123b-2404-49fc-9b40-d3ed5025d248",
   "metadata": {},
   "outputs": [],
   "source": [
    "# Indexing using particular column name"
   ]
  },
  {
   "cell_type": "code",
   "execution_count": 6,
   "id": "a2f69443-a991-4af2-9158-43c10ab59163",
   "metadata": {},
   "outputs": [
    {
     "name": "stdout",
     "output_type": "stream",
     "text": [
      "0    20\n",
      "1    34\n",
      "2    22\n",
      "3    18\n",
      "Name: Age, dtype: int64\n"
     ]
    }
   ],
   "source": [
    "print(df['Age'])"
   ]
  },
  {
   "cell_type": "code",
   "execution_count": 8,
   "id": "d7ed7e31-8959-4c5d-b5ca-1e2b90c72f9e",
   "metadata": {},
   "outputs": [],
   "source": [
    "# To main methods used in Indexing in Pandas is df.loc and df.iloc\n",
    "# df.loc takes the integer values whereas df.iloc is used to access data with the help of columns names or list of labells "
   ]
  },
  {
   "cell_type": "code",
   "execution_count": 11,
   "id": "c737e572-2089-4594-9c3c-1bbe159cff45",
   "metadata": {},
   "outputs": [
    {
     "name": "stdout",
     "output_type": "stream",
     "text": [
      "vidhi \n",
      "vidhi \n"
     ]
    }
   ],
   "source": [
    "# df.loc\n",
    "\n",
    "print(df.loc[0,'Name'])\n",
    "#df.iloc\n",
    "# row_indexer ,col_indexer\n",
    "print(df.iloc[0,0])"
   ]
  },
  {
   "cell_type": "code",
   "execution_count": 12,
   "id": "0743f601-f782-4e25-9ed1-3555ead15905",
   "metadata": {},
   "outputs": [],
   "source": [
    "# Slicing = used to extract the rows from the data Frame"
   ]
  },
  {
   "cell_type": "code",
   "execution_count": 14,
   "id": "be4952f0-5bbf-477f-bfac-38b135ca29f4",
   "metadata": {},
   "outputs": [
    {
     "name": "stdout",
     "output_type": "stream",
     "text": [
      "      Name  Age  Country\n",
      "0   vidhi    20    India\n",
      "1    ALpha   34   Brazil\n",
      "2  devdutt   22  Germany\n"
     ]
    }
   ],
   "source": [
    "print(df[0:3])"
   ]
  },
  {
   "cell_type": "code",
   "execution_count": 15,
   "id": "603ffe51-1624-45e8-ad4a-09a7232c84ae",
   "metadata": {},
   "outputs": [
    {
     "name": "stdout",
     "output_type": "stream",
     "text": [
      "      Name  Country\n",
      "1    ALpha   Brazil\n",
      "2  devdutt  Germany\n",
      "3     Riya   Franze\n"
     ]
    }
   ],
   "source": [
    "#(start :stop , col_indexer)\n",
    "print(df.loc[1:3,['Name' ,'Country']])"
   ]
  }
 ],
 "metadata": {
  "kernelspec": {
   "display_name": "Python 3 (ipykernel)",
   "language": "python",
   "name": "python3"
  },
  "language_info": {
   "codemirror_mode": {
    "name": "ipython",
    "version": 3
   },
   "file_extension": ".py",
   "mimetype": "text/x-python",
   "name": "python",
   "nbconvert_exporter": "python",
   "pygments_lexer": "ipython3",
   "version": "3.11.8"
  }
 },
 "nbformat": 4,
 "nbformat_minor": 5
}
